{
 "cells": [
  {
   "cell_type": "code",
   "execution_count": 1,
   "metadata": {
    "execution": {
     "iopub.execute_input": "2020-09-03T01:36:02.501423Z",
     "iopub.status.busy": "2020-09-03T01:36:02.500874Z",
     "iopub.status.idle": "2020-09-03T01:36:03.511136Z",
     "shell.execute_reply": "2020-09-03T01:36:03.510522Z"
    },
    "papermill": {
     "duration": 1.018928,
     "end_time": "2020-09-03T01:36:03.511257",
     "exception": false,
     "start_time": "2020-09-03T01:36:02.492329",
     "status": "completed"
    },
    "tags": []
   },
   "outputs": [],
   "source": [
    "import numpy as np # linear algebra\n",
    "import pandas as pd # data processing\n",
    "from sklearn.model_selection import train_test_split\n",
    "\n",
    "# For data visualisation\n",
    "import seaborn as sns\n",
    "import matplotlib.pyplot as plt"
   ]
  },
  {
   "cell_type": "markdown",
   "metadata": {},
   "source": [
    "## Import Data"
   ]
  },
  {
   "cell_type": "code",
   "execution_count": 2,
   "metadata": {
    "execution": {
     "iopub.execute_input": "2020-09-03T01:36:03.541439Z",
     "iopub.status.busy": "2020-09-03T01:36:03.540803Z",
     "iopub.status.idle": "2020-09-03T01:36:03.717000Z",
     "shell.execute_reply": "2020-09-03T01:36:03.716350Z"
    },
    "papermill": {
     "duration": 0.20024,
     "end_time": "2020-09-03T01:36:03.717120",
     "exception": false,
     "start_time": "2020-09-03T01:36:03.516880",
     "status": "completed"
    },
    "tags": []
   },
   "outputs": [],
   "source": [
    "# Read the data\n",
    "X_full = pd.read_csv('datasets/train.csv', index_col='Id')\n",
    "X_test_full = pd.read_csv('datasets/test.csv', index_col='Id')"
   ]
  },
  {
   "cell_type": "code",
   "execution_count": 3,
   "metadata": {},
   "outputs": [],
   "source": [
    "# Remove rows with missing target\n",
    "X_full.dropna(axis=0, subset=['SalePrice'], inplace=True)"
   ]
  },
  {
   "cell_type": "markdown",
   "metadata": {},
   "source": [
    "## Detect and Delete Outliers"
   ]
  },
  {
   "cell_type": "code",
   "execution_count": 4,
   "metadata": {},
   "outputs": [
    {
     "data": {
      "text/html": [
       "<div>\n",
       "<style scoped>\n",
       "    .dataframe tbody tr th:only-of-type {\n",
       "        vertical-align: middle;\n",
       "    }\n",
       "\n",
       "    .dataframe tbody tr th {\n",
       "        vertical-align: top;\n",
       "    }\n",
       "\n",
       "    .dataframe thead th {\n",
       "        text-align: right;\n",
       "    }\n",
       "</style>\n",
       "<table border=\"1\" class=\"dataframe\">\n",
       "  <thead>\n",
       "    <tr style=\"text-align: right;\">\n",
       "      <th></th>\n",
       "      <th>MSSubClass</th>\n",
       "      <th>MSZoning</th>\n",
       "      <th>LotFrontage</th>\n",
       "      <th>LotArea</th>\n",
       "      <th>Street</th>\n",
       "      <th>Alley</th>\n",
       "      <th>LotShape</th>\n",
       "      <th>LandContour</th>\n",
       "      <th>Utilities</th>\n",
       "      <th>LotConfig</th>\n",
       "      <th>...</th>\n",
       "      <th>PoolArea</th>\n",
       "      <th>PoolQC</th>\n",
       "      <th>Fence</th>\n",
       "      <th>MiscFeature</th>\n",
       "      <th>MiscVal</th>\n",
       "      <th>MoSold</th>\n",
       "      <th>YrSold</th>\n",
       "      <th>SaleType</th>\n",
       "      <th>SaleCondition</th>\n",
       "      <th>SalePrice</th>\n",
       "    </tr>\n",
       "    <tr>\n",
       "      <th>Id</th>\n",
       "      <th></th>\n",
       "      <th></th>\n",
       "      <th></th>\n",
       "      <th></th>\n",
       "      <th></th>\n",
       "      <th></th>\n",
       "      <th></th>\n",
       "      <th></th>\n",
       "      <th></th>\n",
       "      <th></th>\n",
       "      <th></th>\n",
       "      <th></th>\n",
       "      <th></th>\n",
       "      <th></th>\n",
       "      <th></th>\n",
       "      <th></th>\n",
       "      <th></th>\n",
       "      <th></th>\n",
       "      <th></th>\n",
       "      <th></th>\n",
       "      <th></th>\n",
       "    </tr>\n",
       "  </thead>\n",
       "  <tbody>\n",
       "    <tr>\n",
       "      <th>1</th>\n",
       "      <td>60</td>\n",
       "      <td>RL</td>\n",
       "      <td>65.0</td>\n",
       "      <td>8450</td>\n",
       "      <td>Pave</td>\n",
       "      <td>NaN</td>\n",
       "      <td>Reg</td>\n",
       "      <td>Lvl</td>\n",
       "      <td>AllPub</td>\n",
       "      <td>Inside</td>\n",
       "      <td>...</td>\n",
       "      <td>0</td>\n",
       "      <td>NaN</td>\n",
       "      <td>NaN</td>\n",
       "      <td>NaN</td>\n",
       "      <td>0</td>\n",
       "      <td>2</td>\n",
       "      <td>2008</td>\n",
       "      <td>WD</td>\n",
       "      <td>Normal</td>\n",
       "      <td>208500</td>\n",
       "    </tr>\n",
       "    <tr>\n",
       "      <th>2</th>\n",
       "      <td>20</td>\n",
       "      <td>RL</td>\n",
       "      <td>80.0</td>\n",
       "      <td>9600</td>\n",
       "      <td>Pave</td>\n",
       "      <td>NaN</td>\n",
       "      <td>Reg</td>\n",
       "      <td>Lvl</td>\n",
       "      <td>AllPub</td>\n",
       "      <td>FR2</td>\n",
       "      <td>...</td>\n",
       "      <td>0</td>\n",
       "      <td>NaN</td>\n",
       "      <td>NaN</td>\n",
       "      <td>NaN</td>\n",
       "      <td>0</td>\n",
       "      <td>5</td>\n",
       "      <td>2007</td>\n",
       "      <td>WD</td>\n",
       "      <td>Normal</td>\n",
       "      <td>181500</td>\n",
       "    </tr>\n",
       "    <tr>\n",
       "      <th>3</th>\n",
       "      <td>60</td>\n",
       "      <td>RL</td>\n",
       "      <td>68.0</td>\n",
       "      <td>11250</td>\n",
       "      <td>Pave</td>\n",
       "      <td>NaN</td>\n",
       "      <td>IR1</td>\n",
       "      <td>Lvl</td>\n",
       "      <td>AllPub</td>\n",
       "      <td>Inside</td>\n",
       "      <td>...</td>\n",
       "      <td>0</td>\n",
       "      <td>NaN</td>\n",
       "      <td>NaN</td>\n",
       "      <td>NaN</td>\n",
       "      <td>0</td>\n",
       "      <td>9</td>\n",
       "      <td>2008</td>\n",
       "      <td>WD</td>\n",
       "      <td>Normal</td>\n",
       "      <td>223500</td>\n",
       "    </tr>\n",
       "    <tr>\n",
       "      <th>4</th>\n",
       "      <td>70</td>\n",
       "      <td>RL</td>\n",
       "      <td>60.0</td>\n",
       "      <td>9550</td>\n",
       "      <td>Pave</td>\n",
       "      <td>NaN</td>\n",
       "      <td>IR1</td>\n",
       "      <td>Lvl</td>\n",
       "      <td>AllPub</td>\n",
       "      <td>Corner</td>\n",
       "      <td>...</td>\n",
       "      <td>0</td>\n",
       "      <td>NaN</td>\n",
       "      <td>NaN</td>\n",
       "      <td>NaN</td>\n",
       "      <td>0</td>\n",
       "      <td>2</td>\n",
       "      <td>2006</td>\n",
       "      <td>WD</td>\n",
       "      <td>Abnorml</td>\n",
       "      <td>140000</td>\n",
       "    </tr>\n",
       "    <tr>\n",
       "      <th>5</th>\n",
       "      <td>60</td>\n",
       "      <td>RL</td>\n",
       "      <td>84.0</td>\n",
       "      <td>14260</td>\n",
       "      <td>Pave</td>\n",
       "      <td>NaN</td>\n",
       "      <td>IR1</td>\n",
       "      <td>Lvl</td>\n",
       "      <td>AllPub</td>\n",
       "      <td>FR2</td>\n",
       "      <td>...</td>\n",
       "      <td>0</td>\n",
       "      <td>NaN</td>\n",
       "      <td>NaN</td>\n",
       "      <td>NaN</td>\n",
       "      <td>0</td>\n",
       "      <td>12</td>\n",
       "      <td>2008</td>\n",
       "      <td>WD</td>\n",
       "      <td>Normal</td>\n",
       "      <td>250000</td>\n",
       "    </tr>\n",
       "  </tbody>\n",
       "</table>\n",
       "<p>5 rows × 80 columns</p>\n",
       "</div>"
      ],
      "text/plain": [
       "    MSSubClass MSZoning  LotFrontage  LotArea Street Alley LotShape  \\\n",
       "Id                                                                    \n",
       "1           60       RL         65.0     8450   Pave   NaN      Reg   \n",
       "2           20       RL         80.0     9600   Pave   NaN      Reg   \n",
       "3           60       RL         68.0    11250   Pave   NaN      IR1   \n",
       "4           70       RL         60.0     9550   Pave   NaN      IR1   \n",
       "5           60       RL         84.0    14260   Pave   NaN      IR1   \n",
       "\n",
       "   LandContour Utilities LotConfig  ... PoolArea PoolQC Fence MiscFeature  \\\n",
       "Id                                  ...                                     \n",
       "1          Lvl    AllPub    Inside  ...        0    NaN   NaN         NaN   \n",
       "2          Lvl    AllPub       FR2  ...        0    NaN   NaN         NaN   \n",
       "3          Lvl    AllPub    Inside  ...        0    NaN   NaN         NaN   \n",
       "4          Lvl    AllPub    Corner  ...        0    NaN   NaN         NaN   \n",
       "5          Lvl    AllPub       FR2  ...        0    NaN   NaN         NaN   \n",
       "\n",
       "   MiscVal MoSold  YrSold  SaleType  SaleCondition  SalePrice  \n",
       "Id                                                             \n",
       "1        0      2    2008        WD         Normal     208500  \n",
       "2        0      5    2007        WD         Normal     181500  \n",
       "3        0      9    2008        WD         Normal     223500  \n",
       "4        0      2    2006        WD        Abnorml     140000  \n",
       "5        0     12    2008        WD         Normal     250000  \n",
       "\n",
       "[5 rows x 80 columns]"
      ]
     },
     "execution_count": 4,
     "metadata": {},
     "output_type": "execute_result"
    }
   ],
   "source": [
    "X_full.head()"
   ]
  },
  {
   "cell_type": "code",
   "execution_count": 5,
   "metadata": {},
   "outputs": [
    {
     "data": {
      "image/png": "[encoded data removed]",
      "text/plain": [
       "<Figure size 1080x504 with 8 Axes>"
      ]
     },
     "metadata": {
      "needs_background": "light"
     },
     "output_type": "display_data"
    }
   ],
   "source": [
    "# Use  box plot to visualise the and detect outliers\n",
    "columns_outliers = [\"LotFrontage\", \"LotArea\", \"BsmtFinSF1\", \"TotalBsmtSF\", \"1stFlrSF\", \"GrLivArea\", \"LowQualFinSF\"]\n",
    "\n",
    "fig, axes = plt.subplots(4, 2, figsize=(15, 7))\n",
    "axes = axes.flatten()\n",
    "\n",
    "for column, axis in zip(columns_outliers, axes):\n",
    "    sns.boxplot(x=X_full[column], ax=axis)"
   ]
  },
  {
   "cell_type": "code",
   "execution_count": 6,
   "metadata": {},
   "outputs": [],
   "source": [
    "# Delete outliers\n",
    "X_full = X_full.drop(X_full['LotFrontage'] [X_full['LotFrontage']>200].index)\n",
    "X_full = X_full.drop(X_full['LotArea'] [X_full['LotArea']>100000].index)\n",
    "X_full = X_full.drop(X_full['BsmtFinSF1'] [X_full['BsmtFinSF1']>4000].index)\n",
    "X_full = X_full.drop(X_full['TotalBsmtSF'] [X_full['TotalBsmtSF']>6000].index)\n",
    "X_full = X_full.drop(X_full['1stFlrSF'] [X_full['1stFlrSF']>4000].index)\n",
    "X_full = X_full.drop(X_full.GrLivArea [(X_full['GrLivArea']>4000) & (X_full['SalePrice']<300000)].index)\n",
    "X_full = X_full.drop(X_full.LowQualFinSF    [X_full['LowQualFinSF']>550].index)"
   ]
  },
  {
   "cell_type": "markdown",
   "metadata": {},
   "source": [
    "## Deal with Missing Values"
   ]
  },
  {
   "cell_type": "code",
   "execution_count": 7,
   "metadata": {},
   "outputs": [],
   "source": [
    "from datacleaning import missing_percentage"
   ]
  },
  {
   "cell_type": "code",
   "execution_count": 8,
   "metadata": {
    "scrolled": true
   },
   "outputs": [],
   "source": [
    "missing = missing_percentage(X_full)\n",
    "missing = missing.T"
   ]
  },
  {
   "cell_type": "code",
   "execution_count": 9,
   "metadata": {},
   "outputs": [],
   "source": [
    "# Let't categorize the missing the features\n",
    "# Some null values \n",
    "zero_cols = [col for col in missing.columns if (X_full[col].dtype!=\"O\" and col!=\"LotFrontage\")]\n",
    "freq_cols = [col for col in missing.columns if (missing[col][\"Total\"]<=2 and col not in zero_cols)]\n",
    "none_cols = [col for col in missing.columns if (X_full[col].dtype==\"O\" and col!=\"MSZoning\")]\n",
    "\n",
    "\n",
    "# Some N/A values mean that a particular house doesn't have the feature described (eg; A pool, an alley)\n",
    "# In such cases, numerical values will be marked as 0 and categorical features will be categorized by a new class, None\n",
    "# In cases where the null values occur in a few houses, it is possible that there're actual missing values\n",
    "# In such cases, we will replace them with the mode\n",
    "\n",
    "for col in zero_cols:\n",
    "    X_full[col].replace(np.nan, 0, inplace=True)\n",
    "    \n",
    "for col in freq_cols:\n",
    "    X_full[col].replace(np.nan, X_full[col].mode()[0], inplace=True)\n",
    "    \n",
    "for col in none_cols:\n",
    "    X_full[col].replace(np.nan, \"None\", inplace=True)"
   ]
  },
  {
   "cell_type": "code",
   "execution_count": 10,
   "metadata": {},
   "outputs": [],
   "source": [
    "# We can't replace all NaN values in the MSSubClass and LotFrontage\n",
    "# with zeros (O can't be a reasonable prediction of the null values)\n",
    "# We can use other features to make a fairly accurate estimation of the null values\n",
    "\n",
    "# I can modularise this part by creating a function called strategic_imputation\n",
    "\n",
    "# MSSubClass (the type of dwelling) may help predict the type of zone\n",
    "X_full[\"MSZoning\"] = X_full.groupby(\"MSSubClass\")[\"MSZoning\"].apply(lambda x:x.fillna(x.mode()[0]))\n",
    "\n",
    "# Neighbourhood may help predict the LotFrontage\n",
    "X_full[\"LotFrontage\"] = X_full.groupby(\"Neighborhood\")[\"LotFrontage\"].apply(lambda x:x.fillna(x.median()))"
   ]
  },
  {
   "cell_type": "markdown",
   "metadata": {},
   "source": [
    "## Feature Engineering"
   ]
  },
  {
   "cell_type": "code",
   "execution_count": 11,
   "metadata": {},
   "outputs": [
    {
     "name": "stderr",
     "output_type": "stream",
     "text": [
      "C:\\Users\\Hp\\anaconda3\\lib\\site-packages\\ipykernel_launcher.py:9: SettingWithCopyWarning: \n",
      "A value is trying to be set on a copy of a slice from a DataFrame\n",
      "\n",
      "See the caveats in the documentation: https://pandas.pydata.org/pandas-docs/stable/user_guide/indexing.html#returning-a-view-versus-a-copy\n",
      "  if __name__ == '__main__':\n"
     ]
    }
   ],
   "source": [
    "# Some features have some values which are less than 10\n",
    "# If a feature has two or more of such values, we will place it the other list\n",
    "# Then, we will classify those mini values together as Other' \n",
    "\n",
    "others = [feature for feature in X_full.columns if ((X_full[feature].value_counts()<10).sum() > 1) and (X_full[feature].dtype==\"O\")]\n",
    "\n",
    "for col in others:\n",
    "    indices = X_full[col].isin(X_full[col].value_counts()[X_full[col].value_counts()<10].index)\n",
    "    X_full[col][indices] = \"Other\""
   ]
  },
  {
   "cell_type": "markdown",
   "metadata": {},
   "source": [
    "## Drop Columns with High Correlations with Other Columns"
   ]
  },
  {
   "cell_type": "code",
   "execution_count": 12,
   "metadata": {},
   "outputs": [],
   "source": [
    "# Numerical cols with high correlation delete\n",
    "attributes_drop = ['MiscVal', 'MSSubClass', 'MoSold', 'YrSold', \n",
    "                   'GarageArea', 'GarageYrBlt', 'TotRmsAbvGrd'] # high corr with other attributes\n",
    "\n",
    "X_full = X_full.drop(attributes_drop, axis=1)"
   ]
  },
  {
   "cell_type": "markdown",
   "metadata": {},
   "source": [
    "## Separate Targets from Predictors"
   ]
  },
  {
   "cell_type": "code",
   "execution_count": 13,
   "metadata": {},
   "outputs": [],
   "source": [
    "# Separate target from predictors\n",
    "y = X_full.SalePrice              \n",
    "X_full.drop(['SalePrice'], axis=1, inplace=True)"
   ]
  },
  {
   "cell_type": "markdown",
   "metadata": {},
   "source": [
    "## Set aside Validation data from Training data"
   ]
  },
  {
   "cell_type": "code",
   "execution_count": 14,
   "metadata": {},
   "outputs": [],
   "source": [
    "# Break off validation set from training data\n",
    "X_train_full, X_valid_full, y_train, y_valid = train_test_split(X_full, y, train_size=0.8, test_size=0.2, random_state=0)"
   ]
  },
  {
   "cell_type": "markdown",
   "metadata": {},
   "source": [
    "## Categorical Data"
   ]
  },
  {
   "cell_type": "code",
   "execution_count": 15,
   "metadata": {},
   "outputs": [],
   "source": [
    "# \"Cardinality\" means the number of unique values in a column\n",
    "# Select categorical columns with relatively low cardinality (convenient but arbitrary)\n",
    "low_cardinality_cols = [cname for cname in X_train_full.columns if X_train_full[cname].nunique() < 10 and X_train_full[cname].dtype == \"object\"]"
   ]
  },
  {
   "cell_type": "code",
   "execution_count": 16,
   "metadata": {},
   "outputs": [],
   "source": [
    "# Select numeric columns\n",
    "numerical_cols = [cname for cname in X_train_full.columns if X_train_full[cname].dtype in ['int64', 'float64']]"
   ]
  },
  {
   "cell_type": "code",
   "execution_count": 17,
   "metadata": {},
   "outputs": [],
   "source": [
    "# Keep selected columns only\n",
    "my_cols = low_cardinality_cols + numerical_cols\n",
    "X_train = X_train_full[my_cols].copy()\n",
    "X_valid = X_valid_full[my_cols].copy()\n",
    "X_test = X_test_full[my_cols].copy()"
   ]
  },
  {
   "cell_type": "code",
   "execution_count": 18,
   "metadata": {},
   "outputs": [],
   "source": [
    "# One-hot encode the data (to shorten the code, we use pandas)\n",
    "X_train = pd.get_dummies(X_train)\n",
    "X_valid = pd.get_dummies(X_valid)\n",
    "X_test = pd.get_dummies(X_test)\n",
    "X_train, X_valid = X_train.align(X_valid, join='left', axis=1)\n",
    "X_train, X_test = X_train.align(X_test, join='left', axis=1)"
   ]
  },
  {
   "cell_type": "markdown",
   "metadata": {},
   "source": [
    "## XGBoost Model Prediction"
   ]
  },
  {
   "cell_type": "code",
   "execution_count": 19,
   "metadata": {
    "execution": {
     "iopub.execute_input": "2020-09-03T01:36:03.732577Z",
     "iopub.status.busy": "2020-09-03T01:36:03.731945Z",
     "iopub.status.idle": "2020-09-03T01:36:04.693923Z",
     "shell.execute_reply": "2020-09-03T01:36:04.692500Z"
    },
    "papermill": {
     "duration": 0.971664,
     "end_time": "2020-09-03T01:36:04.694052",
     "exception": false,
     "start_time": "2020-09-03T01:36:03.722388",
     "status": "completed"
    },
    "tags": []
   },
   "outputs": [],
   "source": [
    "from sklearn.pipeline import Pipeline\n",
    "from sklearn.compose import ColumnTransformer\n",
    "from sklearn.impute import SimpleImputer\n",
    "from xgboost import XGBRegressor\n",
    "from sklearn.model_selection import cross_val_score"
   ]
  },
  {
   "cell_type": "code",
   "execution_count": 20,
   "metadata": {
    "execution": {
     "iopub.execute_input": "2020-09-03T01:36:04.712372Z",
     "iopub.status.busy": "2020-09-03T01:36:04.711825Z",
     "iopub.status.idle": "2020-09-03T01:36:04.715188Z",
     "shell.execute_reply": "2020-09-03T01:36:04.714747Z"
    },
    "papermill": {
     "duration": 0.014746,
     "end_time": "2020-09-03T01:36:04.715292",
     "exception": false,
     "start_time": "2020-09-03T01:36:04.700546",
     "status": "completed"
    },
    "tags": []
   },
   "outputs": [],
   "source": [
    "# Preprocessing for numerical data\n",
    "numerical_transformer = SimpleImputer(strategy='mean')\n",
    "\n",
    "# Preprocessing for categorical data\n",
    "categorical_transformer = Pipeline(steps=[\n",
    "    ('imputer', SimpleImputer(strategy='most_frequent'))\n",
    "])\n",
    "\n",
    "# Bundle preprocessing for numerical and categorical data\n",
    "preprocessor = ColumnTransformer(\n",
    "    transformers=[\n",
    "        ('num', numerical_transformer, numerical_cols),\n",
    "        ('cat', categorical_transformer, low_cardinality_cols)\n",
    "    ])"
   ]
  },
  {
   "cell_type": "code",
   "execution_count": 21,
   "metadata": {},
   "outputs": [],
   "source": [
    "# Define the model\n",
    "my_model_2 = XGBRegressor(base_score=0.5, booster='gbtree', colsample_bylevel=1,\n",
    "                          colsample_bynode=1, colsample_bytree=0.4, gamma=0.0002,\n",
    "                          importance_type='gain', learning_rate=0.009,max_delta_step=0,\n",
    "                          max_depth=8, min_child_weight=0, missing=None,n_estimators=3232,\n",
    "                          n_jobs=1, nthread=None, objective='reg:squarederror',random_state=0,\n",
    "                          reg_alpha=0.000035, reg_lambda=1, scale_pos_weight=1,seed=42,\n",
    "                          silent=None, subsample=0.45, verbosity=1)\n"
   ]
  },
  {
   "cell_type": "code",
   "execution_count": 22,
   "metadata": {
    "execution": {
     "iopub.execute_input": "2020-09-03T01:36:04.738328Z",
     "iopub.status.busy": "2020-09-03T01:36:04.737760Z",
     "iopub.status.idle": "2020-09-03T01:36:04.769338Z",
     "shell.execute_reply": "2020-09-03T01:36:04.769817Z"
    },
    "papermill": {
     "duration": 0.049376,
     "end_time": "2020-09-03T01:36:04.769957",
     "exception": false,
     "start_time": "2020-09-03T01:36:04.720581",
     "status": "completed"
    },
    "tags": []
   },
   "outputs": [
    {
     "name": "stdout",
     "output_type": "stream",
     "text": [
      "Mean Absolute Error: 13576.796928694159\n"
     ]
    }
   ],
   "source": [
    "# Fit the model\n",
    "my_model_2.fit(X_train, y_train) \n",
    "\n",
    "\n",
    "# Get predictions\n",
    "predictions_2 = my_model_2.predict(X_valid) # Your code here\n",
    "\n",
    "# Calculate MAE\n",
    "\n",
    "from sklearn.metrics import mean_absolute_error\n",
    "mae_2 = mean_absolute_error(predictions_2, y_valid) # Your code here\n",
    "\n",
    "# Print MAE\n",
    "print(\"Mean Absolute Error:\", mae_2)"
   ]
  },
  {
   "cell_type": "code",
   "execution_count": 23,
   "metadata": {
    "execution": {
     "iopub.execute_input": "2020-09-03T01:36:04.784864Z",
     "iopub.status.busy": "2020-09-03T01:36:04.784281Z",
     "iopub.status.idle": "2020-09-03T01:36:04.798993Z",
     "shell.execute_reply": "2020-09-03T01:36:04.799469Z"
    },
    "papermill": {
     "duration": 0.023539,
     "end_time": "2020-09-03T01:36:04.799608",
     "exception": false,
     "start_time": "2020-09-03T01:36:04.776069",
     "status": "completed"
    },
    "tags": []
   },
   "outputs": [],
   "source": [
    "my_model = my_model_2\n",
    "\n",
    "preds_test = my_model.predict(X_test)\n",
    "\n",
    "# Save test predictions to file\n",
    "output = pd.DataFrame({'Id': X_test.index,\n",
    "                       'SalePrice': preds_test})\n",
    "output.to_csv('submission.csv', index=False)"
   ]
  }
 ],
 "metadata": {
  "kernelspec": {
   "display_name": "Python 3",
   "language": "python",
   "name": "python3"
  },
  "language_info": {
   "codemirror_mode": {
    "name": "ipython",
    "version": 3
   },
   "file_extension": ".py",
   "mimetype": "text/x-python",
   "name": "python",
   "nbconvert_exporter": "python",
   "pygments_lexer": "ipython3",
   "version": "3.7.6"
  },
  "papermill": {
   "duration": 6.667871,
   "end_time": "2020-09-03T01:36:04.940958",
   "environment_variables": {},
   "exception": null,
   "input_path": "__notebook__.ipynb",
   "output_path": "__notebook__.ipynb",
   "parameters": {},
   "start_time": "2020-09-03T01:35:58.273087",
   "version": "2.1.0"
  }
 },
 "nbformat": 4,
 "nbformat_minor": 4
}
