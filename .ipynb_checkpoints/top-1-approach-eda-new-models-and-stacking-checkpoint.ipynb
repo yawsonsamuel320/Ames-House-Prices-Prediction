{
 "cells": [
  {
   "cell_type": "markdown",
   "metadata": {},
   "source": [
    "# Introduction\n",
    "\n",
    "Hello all! In this notebook I'm going to implement what I gained on the way of learning. I'm doing this for learning purposes and share back to community what I learned. So there might be areas can be improved in future.\n",
    "\n",
    "#### My main objectives on this project are:\n",
    "+ Applying exploratory data analysis and trying to get some insights about our dataset\n",
    "+ Getting data in better shape by transforming and feature engineering to help us in building better models\n",
    "+ Building and tuning couple models to get some stable results on predicting housing prices\n",
    "\n",
    "#### In this notebook we are going to try explore the data we have and going try answer questions like:\n",
    "+ What are the main predictors for house pricing?\n",
    "+ What is more important on pricing, having big area for housing or just being in better neighborhood?\n",
    "+ Is quality of the house alone more important than having nice garages or basements?\n",
    "+ There are some features that can be modified and depends on the building but there are some other features like cannot be changed like location of the house, which group is effecting house prices?\n",
    "+ Can we predict the price of a house with the given traning data using machine learning techniques.\n",
    "+ What can our predictions achieve with different approaches?\n",
    "+ If we stack and blend the models, can we get more regularized results?\n",
    "\n",
    "\n",
    "**I hope you enjoy while reading it! And if you liked this kernel feel free to upvote and leave feedback, thanks!**"
   ]
  },
  {
   "cell_type": "code",
   "execution_count": 1,
   "metadata": {
    "_kg_hide-input": true,
    "_kg_hide-output": true
   },
   "outputs": [
    {
     "name": "stdout",
     "output_type": "stream",
     "text": [
      "Requirement already up-to-date: scikit-learn in c:\\users\\hp\\anaconda3\\lib\\site-packages (0.23.2)\n",
      "Requirement already satisfied, skipping upgrade: scipy>=0.19.1 in c:\\users\\hp\\anaconda3\\lib\\site-packages (from scikit-learn) (1.4.1)\n",
      "Requirement already satisfied, skipping upgrade: joblib>=0.11 in c:\\users\\hp\\anaconda3\\lib\\site-packages (from scikit-learn) (0.14.1)\n",
      "Requirement already satisfied, skipping upgrade: numpy>=1.13.3 in c:\\users\\hp\\anaconda3\\lib\\site-packages (from scikit-learn) (1.18.1)\n",
      "Requirement already satisfied, skipping upgrade: threadpoolctl>=2.0.0 in c:\\users\\hp\\anaconda3\\lib\\site-packages (from scikit-learn) (2.1.0)\n",
      "Note: you may need to restart the kernel to use updated packages.\n"
     ]
    },
    {
     "name": "stderr",
     "output_type": "stream",
     "text": [
      "WARNING: Retrying (Retry(total=4, connect=None, read=None, redirect=None, status=None)) after connection broken by 'ConnectTimeoutError(<pip._vendor.urllib3.connection.VerifiedHTTPSConnection object at 0x0000027AC2D95848>, 'Connection to pypi.org timed out. (connect timeout=15)')': /simple/scikit-learn/\n",
      "WARNING: Retrying (Retry(total=3, connect=None, read=None, redirect=None, status=None)) after connection broken by 'NewConnectionError('<pip._vendor.urllib3.connection.VerifiedHTTPSConnection object at 0x0000027AC2D93508>: Failed to establish a new connection: [Errno 11001] getaddrinfo failed')': /simple/scikit-learn/\n",
      "WARNING: Retrying (Retry(total=2, connect=None, read=None, redirect=None, status=None)) after connection broken by 'NewConnectionError('<pip._vendor.urllib3.connection.VerifiedHTTPSConnection object at 0x0000027AC2D99208>: Failed to establish a new connection: [Errno 11001] getaddrinfo failed')': /simple/scikit-learn/\n",
      "WARNING: Retrying (Retry(total=1, connect=None, read=None, redirect=None, status=None)) after connection broken by 'NewConnectionError('<pip._vendor.urllib3.connection.VerifiedHTTPSConnection object at 0x0000027AC2D9CDC8>: Failed to establish a new connection: [Errno 11001] getaddrinfo failed')': /simple/scikit-learn/\n",
      "WARNING: Retrying (Retry(total=0, connect=None, read=None, redirect=None, status=None)) after connection broken by 'NewConnectionError('<pip._vendor.urllib3.connection.VerifiedHTTPSConnection object at 0x0000027AC2D9ADC8>: Failed to establish a new connection: [Errno 11001] getaddrinfo failed')': /simple/scikit-learn/\n"
     ]
    }
   ],
   "source": [
    "%pip install --upgrade scikit-learn \n",
    "\n",
    "# Did this to use latest regressors from sklearn..."
   ]
  },
  {
   "cell_type": "code",
   "execution_count": 2,
   "metadata": {
    "_kg_hide-output": true
   },
   "outputs": [],
   "source": [
    "# Loading neccesary packages:\n",
    "\n",
    "\n",
    "import numpy as np\n",
    "import pandas as pd\n",
    "import matplotlib.pyplot as plt\n",
    "import seaborn as sns\n",
    "from datetime import datetime\n",
    "\n",
    "#\n",
    "\n",
    "from scipy import stats\n",
    "from scipy.stats import skew, boxcox_normmax, norm\n",
    "from scipy.special import boxcox1p\n",
    "\n",
    "#\n",
    "\n",
    "import matplotlib.gridspec as gridspec\n",
    "from matplotlib.ticker import MaxNLocator\n",
    "\n",
    "#\n",
    "\n",
    "import warnings\n",
    "pd.options.display.max_columns = 250\n",
    "pd.options.display.max_rows = 250\n",
    "warnings.filterwarnings('ignore')\n",
    "plt.style.use('fivethirtyeight')"
   ]
  },
  {
   "cell_type": "markdown",
   "metadata": {},
   "source": [
    "# Meeting the data\n",
    "\n",
    "We're going to start by loading the data and taking first look on it as usual. For the column names we have great dictionary file in our dataset location so we can get familiar with them in no time."
   ]
  },
  {
   "cell_type": "code",
   "execution_count": 3,
   "metadata": {},
   "outputs": [
    {
     "ename": "FileNotFoundError",
     "evalue": "[Errno 2] File /kaggle/input/home-data-for-ml-course/train.csv does not exist: '/kaggle/input/home-data-for-ml-course/train.csv'",
     "output_type": "error",
     "traceback": [
      "\u001b[1;31m---------------------------------------------------------------------------\u001b[0m",
      "\u001b[1;31mFileNotFoundError\u001b[0m                         Traceback (most recent call last)",
      "\u001b[1;32m<ipython-input-3-546fe488c51b>\u001b[0m in \u001b[0;36m<module>\u001b[1;34m\u001b[0m\n\u001b[0;32m      1\u001b[0m \u001b[1;31m# Loading datasets.\u001b[0m\u001b[1;33m\u001b[0m\u001b[1;33m\u001b[0m\u001b[1;33m\u001b[0m\u001b[0m\n\u001b[0;32m      2\u001b[0m \u001b[1;33m\u001b[0m\u001b[0m\n\u001b[1;32m----> 3\u001b[1;33m \u001b[0mtrain\u001b[0m \u001b[1;33m=\u001b[0m \u001b[0mpd\u001b[0m\u001b[1;33m.\u001b[0m\u001b[0mread_csv\u001b[0m\u001b[1;33m(\u001b[0m\u001b[1;34m'/kaggle/input/home-data-for-ml-course/train.csv'\u001b[0m\u001b[1;33m)\u001b[0m\u001b[1;33m\u001b[0m\u001b[1;33m\u001b[0m\u001b[0m\n\u001b[0m\u001b[0;32m      4\u001b[0m \u001b[0mtest\u001b[0m \u001b[1;33m=\u001b[0m \u001b[0mpd\u001b[0m\u001b[1;33m.\u001b[0m\u001b[0mread_csv\u001b[0m\u001b[1;33m(\u001b[0m\u001b[1;34m'/kaggle/input/home-data-for-ml-course/test.csv'\u001b[0m\u001b[1;33m)\u001b[0m\u001b[1;33m\u001b[0m\u001b[1;33m\u001b[0m\u001b[0m\n",
      "\u001b[1;32m~\\anaconda3\\lib\\site-packages\\pandas\\io\\parsers.py\u001b[0m in \u001b[0;36mparser_f\u001b[1;34m(filepath_or_buffer, sep, delimiter, header, names, index_col, usecols, squeeze, prefix, mangle_dupe_cols, dtype, engine, converters, true_values, false_values, skipinitialspace, skiprows, skipfooter, nrows, na_values, keep_default_na, na_filter, verbose, skip_blank_lines, parse_dates, infer_datetime_format, keep_date_col, date_parser, dayfirst, cache_dates, iterator, chunksize, compression, thousands, decimal, lineterminator, quotechar, quoting, doublequote, escapechar, comment, encoding, dialect, error_bad_lines, warn_bad_lines, delim_whitespace, low_memory, memory_map, float_precision)\u001b[0m\n\u001b[0;32m    674\u001b[0m         )\n\u001b[0;32m    675\u001b[0m \u001b[1;33m\u001b[0m\u001b[0m\n\u001b[1;32m--> 676\u001b[1;33m         \u001b[1;32mreturn\u001b[0m \u001b[0m_read\u001b[0m\u001b[1;33m(\u001b[0m\u001b[0mfilepath_or_buffer\u001b[0m\u001b[1;33m,\u001b[0m \u001b[0mkwds\u001b[0m\u001b[1;33m)\u001b[0m\u001b[1;33m\u001b[0m\u001b[1;33m\u001b[0m\u001b[0m\n\u001b[0m\u001b[0;32m    677\u001b[0m \u001b[1;33m\u001b[0m\u001b[0m\n\u001b[0;32m    678\u001b[0m     \u001b[0mparser_f\u001b[0m\u001b[1;33m.\u001b[0m\u001b[0m__name__\u001b[0m \u001b[1;33m=\u001b[0m \u001b[0mname\u001b[0m\u001b[1;33m\u001b[0m\u001b[1;33m\u001b[0m\u001b[0m\n",
      "\u001b[1;32m~\\anaconda3\\lib\\site-packages\\pandas\\io\\parsers.py\u001b[0m in \u001b[0;36m_read\u001b[1;34m(filepath_or_buffer, kwds)\u001b[0m\n\u001b[0;32m    446\u001b[0m \u001b[1;33m\u001b[0m\u001b[0m\n\u001b[0;32m    447\u001b[0m     \u001b[1;31m# Create the parser.\u001b[0m\u001b[1;33m\u001b[0m\u001b[1;33m\u001b[0m\u001b[1;33m\u001b[0m\u001b[0m\n\u001b[1;32m--> 448\u001b[1;33m     \u001b[0mparser\u001b[0m \u001b[1;33m=\u001b[0m \u001b[0mTextFileReader\u001b[0m\u001b[1;33m(\u001b[0m\u001b[0mfp_or_buf\u001b[0m\u001b[1;33m,\u001b[0m \u001b[1;33m**\u001b[0m\u001b[0mkwds\u001b[0m\u001b[1;33m)\u001b[0m\u001b[1;33m\u001b[0m\u001b[1;33m\u001b[0m\u001b[0m\n\u001b[0m\u001b[0;32m    449\u001b[0m \u001b[1;33m\u001b[0m\u001b[0m\n\u001b[0;32m    450\u001b[0m     \u001b[1;32mif\u001b[0m \u001b[0mchunksize\u001b[0m \u001b[1;32mor\u001b[0m \u001b[0miterator\u001b[0m\u001b[1;33m:\u001b[0m\u001b[1;33m\u001b[0m\u001b[1;33m\u001b[0m\u001b[0m\n",
      "\u001b[1;32m~\\anaconda3\\lib\\site-packages\\pandas\\io\\parsers.py\u001b[0m in \u001b[0;36m__init__\u001b[1;34m(self, f, engine, **kwds)\u001b[0m\n\u001b[0;32m    878\u001b[0m             \u001b[0mself\u001b[0m\u001b[1;33m.\u001b[0m\u001b[0moptions\u001b[0m\u001b[1;33m[\u001b[0m\u001b[1;34m\"has_index_names\"\u001b[0m\u001b[1;33m]\u001b[0m \u001b[1;33m=\u001b[0m \u001b[0mkwds\u001b[0m\u001b[1;33m[\u001b[0m\u001b[1;34m\"has_index_names\"\u001b[0m\u001b[1;33m]\u001b[0m\u001b[1;33m\u001b[0m\u001b[1;33m\u001b[0m\u001b[0m\n\u001b[0;32m    879\u001b[0m \u001b[1;33m\u001b[0m\u001b[0m\n\u001b[1;32m--> 880\u001b[1;33m         \u001b[0mself\u001b[0m\u001b[1;33m.\u001b[0m\u001b[0m_make_engine\u001b[0m\u001b[1;33m(\u001b[0m\u001b[0mself\u001b[0m\u001b[1;33m.\u001b[0m\u001b[0mengine\u001b[0m\u001b[1;33m)\u001b[0m\u001b[1;33m\u001b[0m\u001b[1;33m\u001b[0m\u001b[0m\n\u001b[0m\u001b[0;32m    881\u001b[0m \u001b[1;33m\u001b[0m\u001b[0m\n\u001b[0;32m    882\u001b[0m     \u001b[1;32mdef\u001b[0m \u001b[0mclose\u001b[0m\u001b[1;33m(\u001b[0m\u001b[0mself\u001b[0m\u001b[1;33m)\u001b[0m\u001b[1;33m:\u001b[0m\u001b[1;33m\u001b[0m\u001b[1;33m\u001b[0m\u001b[0m\n",
      "\u001b[1;32m~\\anaconda3\\lib\\site-packages\\pandas\\io\\parsers.py\u001b[0m in \u001b[0;36m_make_engine\u001b[1;34m(self, engine)\u001b[0m\n\u001b[0;32m   1112\u001b[0m     \u001b[1;32mdef\u001b[0m \u001b[0m_make_engine\u001b[0m\u001b[1;33m(\u001b[0m\u001b[0mself\u001b[0m\u001b[1;33m,\u001b[0m \u001b[0mengine\u001b[0m\u001b[1;33m=\u001b[0m\u001b[1;34m\"c\"\u001b[0m\u001b[1;33m)\u001b[0m\u001b[1;33m:\u001b[0m\u001b[1;33m\u001b[0m\u001b[1;33m\u001b[0m\u001b[0m\n\u001b[0;32m   1113\u001b[0m         \u001b[1;32mif\u001b[0m \u001b[0mengine\u001b[0m \u001b[1;33m==\u001b[0m \u001b[1;34m\"c\"\u001b[0m\u001b[1;33m:\u001b[0m\u001b[1;33m\u001b[0m\u001b[1;33m\u001b[0m\u001b[0m\n\u001b[1;32m-> 1114\u001b[1;33m             \u001b[0mself\u001b[0m\u001b[1;33m.\u001b[0m\u001b[0m_engine\u001b[0m \u001b[1;33m=\u001b[0m \u001b[0mCParserWrapper\u001b[0m\u001b[1;33m(\u001b[0m\u001b[0mself\u001b[0m\u001b[1;33m.\u001b[0m\u001b[0mf\u001b[0m\u001b[1;33m,\u001b[0m \u001b[1;33m**\u001b[0m\u001b[0mself\u001b[0m\u001b[1;33m.\u001b[0m\u001b[0moptions\u001b[0m\u001b[1;33m)\u001b[0m\u001b[1;33m\u001b[0m\u001b[1;33m\u001b[0m\u001b[0m\n\u001b[0m\u001b[0;32m   1115\u001b[0m         \u001b[1;32melse\u001b[0m\u001b[1;33m:\u001b[0m\u001b[1;33m\u001b[0m\u001b[1;33m\u001b[0m\u001b[0m\n\u001b[0;32m   1116\u001b[0m             \u001b[1;32mif\u001b[0m \u001b[0mengine\u001b[0m \u001b[1;33m==\u001b[0m \u001b[1;34m\"python\"\u001b[0m\u001b[1;33m:\u001b[0m\u001b[1;33m\u001b[0m\u001b[1;33m\u001b[0m\u001b[0m\n",
      "\u001b[1;32m~\\anaconda3\\lib\\site-packages\\pandas\\io\\parsers.py\u001b[0m in \u001b[0;36m__init__\u001b[1;34m(self, src, **kwds)\u001b[0m\n\u001b[0;32m   1889\u001b[0m         \u001b[0mkwds\u001b[0m\u001b[1;33m[\u001b[0m\u001b[1;34m\"usecols\"\u001b[0m\u001b[1;33m]\u001b[0m \u001b[1;33m=\u001b[0m \u001b[0mself\u001b[0m\u001b[1;33m.\u001b[0m\u001b[0musecols\u001b[0m\u001b[1;33m\u001b[0m\u001b[1;33m\u001b[0m\u001b[0m\n\u001b[0;32m   1890\u001b[0m \u001b[1;33m\u001b[0m\u001b[0m\n\u001b[1;32m-> 1891\u001b[1;33m         \u001b[0mself\u001b[0m\u001b[1;33m.\u001b[0m\u001b[0m_reader\u001b[0m \u001b[1;33m=\u001b[0m \u001b[0mparsers\u001b[0m\u001b[1;33m.\u001b[0m\u001b[0mTextReader\u001b[0m\u001b[1;33m(\u001b[0m\u001b[0msrc\u001b[0m\u001b[1;33m,\u001b[0m \u001b[1;33m**\u001b[0m\u001b[0mkwds\u001b[0m\u001b[1;33m)\u001b[0m\u001b[1;33m\u001b[0m\u001b[1;33m\u001b[0m\u001b[0m\n\u001b[0m\u001b[0;32m   1892\u001b[0m         \u001b[0mself\u001b[0m\u001b[1;33m.\u001b[0m\u001b[0munnamed_cols\u001b[0m \u001b[1;33m=\u001b[0m \u001b[0mself\u001b[0m\u001b[1;33m.\u001b[0m\u001b[0m_reader\u001b[0m\u001b[1;33m.\u001b[0m\u001b[0munnamed_cols\u001b[0m\u001b[1;33m\u001b[0m\u001b[1;33m\u001b[0m\u001b[0m\n\u001b[0;32m   1893\u001b[0m \u001b[1;33m\u001b[0m\u001b[0m\n",
      "\u001b[1;32mpandas\\_libs\\parsers.pyx\u001b[0m in \u001b[0;36mpandas._libs.parsers.TextReader.__cinit__\u001b[1;34m()\u001b[0m\n",
      "\u001b[1;32mpandas\\_libs\\parsers.pyx\u001b[0m in \u001b[0;36mpandas._libs.parsers.TextReader._setup_parser_source\u001b[1;34m()\u001b[0m\n",
      "\u001b[1;31mFileNotFoundError\u001b[0m: [Errno 2] File /kaggle/input/home-data-for-ml-course/train.csv does not exist: '/kaggle/input/home-data-for-ml-course/train.csv'"
     ]
    }
   ],
   "source": [
    "# Loading datasets.\n",
    "\n",
    "train = pd.read_csv('/kaggle/input/home-data-for-ml-course/train.csv')\n",
    "test = pd.read_csv('/kaggle/input/home-data-for-ml-course/test.csv')"
   ]
  },
  {
   "cell_type": "code",
   "execution_count": null,
   "metadata": {},
   "outputs": [],
   "source": [
    "train.shape"
   ]
  },
  {
   "cell_type": "code",
   "execution_count": null,
   "metadata": {},
   "outputs": [],
   "source": [
    "test.shape"
   ]
  },
  {
   "cell_type": "code",
   "execution_count": null,
   "metadata": {},
   "outputs": [],
   "source": [
    "train.head()"
   ]
  },
  {
   "cell_type": "code",
   "execution_count": null,
   "metadata": {},
   "outputs": [],
   "source": [
    "test.head()"
   ]
  },
  {
   "cell_type": "code",
   "execution_count": null,
   "metadata": {},
   "outputs": [],
   "source": [
    "train.describe()"
   ]
  },
  {
   "cell_type": "code",
   "execution_count": null,
   "metadata": {
    "_kg_hide-input": false,
    "_kg_hide-output": true
   },
   "outputs": [],
   "source": [
    "test.describe()"
   ]
  },
  {
   "cell_type": "markdown",
   "metadata": {},
   "source": [
    "- **Id column looks useless we can safely drop it from both. I'm going to save our target (SalePrice) on different variable so we can use it in future.**"
   ]
  },
  {
   "cell_type": "code",
   "execution_count": null,
   "metadata": {},
   "outputs": [],
   "source": [
    "# Dropping unnecessary Id column.\n",
    "\n",
    "train.drop('Id', axis=1, inplace=True)\n",
    "test.drop('Id', axis=1, inplace=True)"
   ]
  },
  {
   "cell_type": "code",
   "execution_count": null,
   "metadata": {},
   "outputs": [],
   "source": [
    "# Backing up target variables and dropping them from train data.\n",
    "\n",
    "y = train['SalePrice'].reset_index(drop=True)\n",
    "train_features = train.drop(['SalePrice'], axis=1)\n",
    "test_features = test"
   ]
  },
  {
   "cell_type": "markdown",
   "metadata": {},
   "source": [
    "# Analysis Time!\n",
    "\n",
    "Ok the short inspection at the beginning give us some hints how should we move from here. I'm going to play with the data we have while analysing the data at the same time. With this way I hope we can get the data in better shape while digging deeper into it.\n",
    "\n",
    "We're going to start with basic correlation table here. I dropped the top part since it's just mirror of the other part below. With this table we can understand some linear relations between different features.\n",
    "\n",
    "#### Observations:\n",
    "- There's strong relation between overall quality of the houses and their sale prices.\n",
    "- Again above grade living area seems strong indicator for sale price.\n",
    "- Garage features, number of baths and rooms, how old the building is etc. also having effect on the price on various levels too.\n",
    "- There are some obvious relations we gonna pass like total square feet affecting how many rooms there are or how many cars can fit into a garage vs. garage area etc.\n",
    "- Overall condition of the house seems less important on the pricing, it's interesting and worth digging.\n"
   ]
  },
  {
   "cell_type": "code",
   "execution_count": null,
   "metadata": {
    "_kg_hide-input": true
   },
   "outputs": [],
   "source": [
    "# Display numerical correlations (pearson) between features on heatmap.\n",
    "\n",
    "sns.set(font_scale=1.1)\n",
    "correlation_train = train.corr()\n",
    "mask = np.triu(correlation_train.corr())\n",
    "plt.figure(figsize=(20, 20))\n",
    "sns.heatmap(correlation_train,\n",
    "            annot=True,\n",
    "            fmt='.1f',\n",
    "            cmap='coolwarm',\n",
    "            square=True,\n",
    "            mask=mask,\n",
    "            linewidths=1,\n",
    "            cbar=False)\n",
    "\n",
    "plt.show()"
   ]
  },
  {
   "cell_type": "markdown",
   "metadata": {},
   "source": [
    "- **I'm going to merge the datasets here before we start editing it so we don't have to do these operations twice. Let's call it features since it has features only. So our data has 2919 observations and 79 features to begin with...**"
   ]
  },
  {
   "cell_type": "code",
   "execution_count": null,
   "metadata": {},
   "outputs": [],
   "source": [
    "# Merging train test features for engineering.\n",
    "\n",
    "features = pd.concat([train_features, test_features]).reset_index(drop=True)\n",
    "print(features.shape)"
   ]
  },
  {
   "cell_type": "markdown",
   "metadata": {},
   "source": [
    "## Missing Data\n",
    "\n",
    "Alright, first of all we need detect missing values, then wee need to get rid of them for the next steps of our work. So let's list our missing values and visualize them:"
   ]
  },
  {
   "cell_type": "code",
   "execution_count": null,
   "metadata": {},
   "outputs": [],
   "source": [
    "def missing_percentage(df):\n",
    "    \n",
    "    \"\"\"A function for returning missing ratios.\"\"\"\n",
    "    \n",
    "    total = df.isnull().sum().sort_values(\n",
    "        ascending=False)[df.isnull().sum().sort_values(ascending=False) != 0]\n",
    "    percent = (df.isnull().sum().sort_values(ascending=False) / len(df) *\n",
    "               100)[(df.isnull().sum().sort_values(ascending=False) / len(df) *\n",
    "                     100) != 0]\n",
    "    return pd.concat([total, percent], axis=1, keys=['Total', 'Percent'])"
   ]
  },
  {
   "cell_type": "markdown",
   "metadata": {},
   "source": [
    "- **That's quite a lot! No need to panic though we got this. If you look at the data description given to us we can see that most of these missing data actually not missing, it's just means house doesn't have that specific feature, we can fix that easily...**"
   ]
  },
  {
   "cell_type": "code",
   "execution_count": null,
   "metadata": {
    "_kg_hide-input": true
   },
   "outputs": [],
   "source": [
    "# Checking 'NaN' values.\n",
    "\n",
    "missing = missing_percentage(features)\n",
    "\n",
    "fig, ax = plt.subplots(figsize=(20, 5))\n",
    "sns.barplot(x=missing.index, y='Percent', data=missing, palette='Reds_r')\n",
    "plt.xticks(rotation=90)\n",
    "\n",
    "display(missing.T.style.background_gradient(cmap='Reds', axis=1))"
   ]
  },
  {
   "cell_type": "markdown",
   "metadata": {},
   "source": [
    "### **Ok this is how we gonna fix most of the missing data:**\n",
    "\n",
    "1. First we fill the NaN's in the columns where they mean 'None' so we gonna replace them with that,\n",
    "2. Then we fill numerical columns where missing values indicating there is no parent feature to measure, so we replace them with 0's.\n",
    "3. Even with these there are some actual missing data, by checking general trends of these features we can fill them with most frequent value(with mode).\n",
    "4. MSZoning part is little bit tricky I choose to fill them with most common type of the related MSSubClass type. It's not perfect but at least we decrease randomness a little bit.\n",
    "5. Again we fill the Lot Frontage with similar approach."
   ]
  },
  {
   "cell_type": "code",
   "execution_count": null,
   "metadata": {},
   "outputs": [],
   "source": [
    "# List of 'NaN' including columns where NaN's mean none.\n",
    "\n",
    "none_cols = [\n",
    "    'Alley', 'PoolQC', 'MiscFeature', 'Fence', 'FireplaceQu', 'GarageType',\n",
    "    'GarageFinish', 'GarageQual', 'GarageCond', 'BsmtQual', 'BsmtCond',\n",
    "    'BsmtExposure', 'BsmtFinType1', 'BsmtFinType2', 'MasVnrType'\n",
    "]\n",
    "\n",
    "# List of 'NaN' including columns where NaN's mean 0.\n",
    "\n",
    "zero_cols = [\n",
    "    'BsmtFinSF1', 'BsmtFinSF2', 'BsmtUnfSF', 'TotalBsmtSF', 'BsmtFullBath',\n",
    "    'BsmtHalfBath', 'GarageYrBlt', 'GarageArea', 'GarageCars', 'MasVnrArea'\n",
    "]\n",
    "\n",
    "# List of 'NaN' including columns where NaN's actually missing gonna replaced with mode.\n",
    "\n",
    "freq_cols = [\n",
    "    'Electrical', 'Exterior1st', 'Exterior2nd', 'Functional', 'KitchenQual',\n",
    "    'SaleType', 'Utilities'\n",
    "]\n",
    "\n",
    "# Filling the list of columns above with appropriate values:\n",
    "\n",
    "for col in zero_cols:\n",
    "    features[col].replace(np.nan, 0, inplace=True)\n",
    "\n",
    "for col in none_cols:\n",
    "    features[col].replace(np.nan, 'None', inplace=True)\n",
    "\n",
    "for col in freq_cols:\n",
    "    features[col].replace(np.nan, features[col].mode()[0], inplace=True)"
   ]
  },
  {
   "cell_type": "code",
   "execution_count": null,
   "metadata": {},
   "outputs": [],
   "source": [
    "[type(column) for column in freq_cols]     "
   ]
  },
  {
   "cell_type": "code",
   "execution_count": null,
   "metadata": {},
   "outputs": [],
   "source": [
    "# Filling 'MSZoning' according to MSSubClass.\n",
    "\n",
    "features['MSZoning'] = features.groupby('MSSubClass')['MSZoning'].apply(\n",
    "    lambda x: x.fillna(x.mode()[0]))"
   ]
  },
  {
   "cell_type": "code",
   "execution_count": null,
   "metadata": {},
   "outputs": [],
   "source": [
    "# Filling 'MSZoning' according to Neighborhood.\n",
    "\n",
    "features['LotFrontage'] = features.groupby(\n",
    "    ['Neighborhood'])['LotFrontage'].apply(lambda x: x.fillna(x.median()))"
   ]
  },
  {
   "cell_type": "code",
   "execution_count": null,
   "metadata": {},
   "outputs": [],
   "source": [
    "# Features which numerical on data but should be treated as category:\n",
    "\n",
    "features['MSSubClass'] = features['MSSubClass'].astype(str)\n",
    "features['YrSold'] = features['YrSold'].astype(str)\n",
    "features['MoSold'] = features['MoSold'].astype(str)"
   ]
  },
  {
   "cell_type": "code",
   "execution_count": null,
   "metadata": {},
   "outputs": [],
   "source": [
    "type(features) "
   ]
  },
  {
   "cell_type": "markdown",
   "metadata": {},
   "source": [
    "# Feature Engineering\n",
    "\n",
    "Ok this is the part where we dig deeper into our completed dataset. There are no missing values so we're good to go! I'm going to start with grouping some values, these values are really rare and I'm thinking they do not add much, so if they appear less than 10 times in our observations they get into 'Other' group."
   ]
  },
  {
   "cell_type": "code",
   "execution_count": null,
   "metadata": {},
   "outputs": [],
   "source": [
    "# Transforming rare values(less than 10) into one group.\n",
    "\n",
    "others = [\n",
    "    'Condition1', 'Condition2', 'RoofMatl', 'Exterior1st', 'Exterior2nd',\n",
    "    'Heating', 'Electrical', 'Functional', 'SaleType'\n",
    "]\n",
    "\n",
    "for col in others:\n",
    "    mask = features[col].isin(\n",
    "        features[col].value_counts()[features[col].value_counts() < 10].index)\n",
    "    features[col][mask] = 'Other'"
   ]
  },
  {
   "cell_type": "code",
   "execution_count": null,
   "metadata": {},
   "outputs": [],
   "source": [
    "def srt_box(y, df):\n",
    "    \n",
    "    '''A function for displaying categorical variables.'''\n",
    "    \n",
    "    fig, axes = plt.subplots(14, 3, figsize=(25, 80))\n",
    "    axes = axes.flatten()\n",
    "\n",
    "    for i, j in zip(df.select_dtypes(include=['object']).columns, axes):\n",
    "\n",
    "        sortd = df.groupby([i])[y].median().sort_values(ascending=False)\n",
    "        sns.boxplot(x=i,\n",
    "                    y=y,\n",
    "                    data=df,\n",
    "                    palette='plasma',\n",
    "                    order=sortd.index,\n",
    "                    ax=j)\n",
    "        j.tick_params(labelrotation=45)\n",
    "        j.yaxis.set_major_locator(MaxNLocator(nbins=18))\n",
    "\n",
    "        plt.tight_layout()"
   ]
  },
  {
   "cell_type": "markdown",
   "metadata": {},
   "source": [
    "# Categorical Data\n",
    "\n",
    "**We already checked some of the numerical features with correlation heatmap but what about categorical values? We want to see relations between categorical data and sale price. Boxplots seems decent way to inspect this type of relation. We're also going to sort them by the median value of that group so we can see the importances in descending order.**\n",
    "\n",
    "#### Observations:\n",
    "\n",
    "- **MSZoning;**\n",
    " - Floating village houses (I assume they are some kind of special area that retired community resides, has the highest median value.\n",
    " - Residental low density houses comes second with the some outliers.\n",
    " - Residental high and low seems similar meanwhile commercial is the lowest.\n",
    "\n",
    "- **LandContour; Hillside houses seems a little bit higher expensive than the rest meanwhile banked houses are the lowest.** \n",
    "\n",
    "- **Neighborhood;**\n",
    " - Northridge Heights, Northridge and Timberland are top 3 expensive places for houses.\n",
    " - Somerset, Veenker, Crawford, Clear Creek, College Creek and Bloomington Heights seems above average.\n",
    " - Sawyer West has wide range for prices related to similar priced regions.\n",
    " - Old Town and Edwards has some outlier prices but they generally below average.\n",
    " - Briardale, Iowa DOT and Rail Road, Meadow Village are the cheapest places for houses it seems...\n",
    "\n",
    "- **Conditions;**\n",
    " - Meanwhile having wide range of values being close to North-South Railroad seems having positive effect on the price.\n",
    " - Being near or adjacent to positive off-site feature (park, greenbelt, etc.) increases the price.\n",
    " - These values are pretty similar but we can get some useful information from them.\n",
    " \n",
    "- **MasVnrType;** Having stone masonry veneer seems better priced than having brick.\n",
    "\n",
    "- **Quality Features;** There are many categorical quality values that affects the pricing on some degree, we're going to quantify them so we can create new features based on them. So we don't dive deep on them in this part.\n",
    "\n",
    "- **CentralAir;** Having central air system has decent positive effect on sale prices.\n",
    "\n",
    "- **GarageType;** \n",
    "  - Built-In (Garage part of house - typically has room above garage) garage typed houses are the most expensive ones.\n",
    "  - Attached garage types following the built-in ones.\n",
    "  - Car ports are the lowest\n",
    "  \n",
    "- **Misc;** Sale type has some kind of effect on the prices but we won't get into details here. Btw... It seems having tennis court is really adding price to your house, who would have known :)\n",
    "\n",
    "**Alright, we're done with categorical data inspecting, I'm going to convert some of these categories to numerical ones, especially the ones where related to quality of the specific features.**"
   ]
  },
  {
   "cell_type": "code",
   "execution_count": null,
   "metadata": {},
   "outputs": [],
   "source": [
    "# Displaying sale prices vs. categorical values:\n",
    "\n",
    "srt_box('SalePrice', train)"
   ]
  },
  {
   "cell_type": "code",
   "execution_count": null,
   "metadata": {},
   "outputs": [],
   "source": [
    "# Converting some of the categorical values to numeric ones. Choosing similar values for closer groups to balance linear relations...\n",
    "\n",
    "neigh_map = {\n",
    "    'MeadowV': 1,\n",
    "    'IDOTRR': 1,\n",
    "    'BrDale': 1,\n",
    "    'BrkSide': 2,\n",
    "    'OldTown': 2,\n",
    "    'Edwards': 2,\n",
    "    'Sawyer': 3,\n",
    "    'Blueste': 3,\n",
    "    'SWISU': 3,\n",
    "    'NPkVill': 3,\n",
    "    'NAmes': 3,\n",
    "    'Mitchel': 4,\n",
    "    'SawyerW': 5,\n",
    "    'NWAmes': 5,\n",
    "    'Gilbert': 5,\n",
    "    'Blmngtn': 5,\n",
    "    'CollgCr': 5,\n",
    "    'ClearCr': 6,\n",
    "    'Crawfor': 6,\n",
    "    'Veenker': 7,\n",
    "    'Somerst': 7,\n",
    "    'Timber': 8,\n",
    "    'StoneBr': 9,\n",
    "    'NridgHt': 10,\n",
    "    'NoRidge': 10\n",
    "}\n",
    "\n",
    "features['Neighborhood'] = features['Neighborhood'].map(neigh_map).astype(\n",
    "    'int')\n",
    "ext_map = {'Po': 1, 'Fa': 2, 'TA': 3, 'Gd': 4, 'Ex': 5}\n",
    "features['ExterQual'] = features['ExterQual'].map(ext_map).astype('int')\n",
    "features['ExterCond'] = features['ExterCond'].map(ext_map).astype('int')\n",
    "bsm_map = {'None': 0, 'Po': 1, 'Fa': 2, 'TA': 3, 'Gd': 4, 'Ex': 5}\n",
    "features['BsmtQual'] = features['BsmtQual'].map(bsm_map).astype('int')\n",
    "features['BsmtCond'] = features['BsmtCond'].map(bsm_map).astype('int')\n",
    "bsmf_map = {\n",
    "    'None': 0,\n",
    "    'Unf': 1,\n",
    "    'LwQ': 2,\n",
    "    'Rec': 3,\n",
    "    'BLQ': 4,\n",
    "    'ALQ': 5,\n",
    "    'GLQ': 6\n",
    "}\n",
    "\n",
    "features['BsmtFinType1'] = features['BsmtFinType1'].map(bsmf_map).astype('int')\n",
    "features['BsmtFinType2'] = features['BsmtFinType2'].map(bsmf_map).astype('int')\n",
    "heat_map = {'Po': 1, 'Fa': 2, 'TA': 3, 'Gd': 4, 'Ex': 5}\n",
    "features['HeatingQC'] = features['HeatingQC'].map(heat_map).astype('int')\n",
    "features['KitchenQual'] = features['KitchenQual'].map(heat_map).astype('int')\n",
    "features['FireplaceQu'] = features['FireplaceQu'].map(bsm_map).astype('int')\n",
    "features['GarageCond'] = features['GarageCond'].map(bsm_map).astype('int')\n",
    "features['GarageQual'] = features['GarageQual'].map(bsm_map).astype('int')"
   ]
  },
  {
   "cell_type": "markdown",
   "metadata": {},
   "source": [
    "# Numeric Data\n",
    "\n",
    "There are many numeric features the inspect, one of the best ways to see how they effect sale prices is scatter plots. We're also plotting polynomial regression lines to see general trend. With this way we can understand the numerical values and their importance on sale price, also it's really helpful to spot outliers.\n",
    "\n",
    "#### Observations:\n",
    "\n",
    "- **OverallQual;** It's clearly visible that sale price of the house increases with overall quality. This confirms the correlation in first table we did at the beginning. (Pearson corr was 0.8)\n",
    "\n",
    "- **OverallCondition;** Looks like overall condition is left skewed where most of the houses are around 5/10 condition. But it doesn't effect the price like quality indicator...\n",
    "\n",
    "- **YearBuilt;** Again new buildings are generally expensive than the old ones.\n",
    "\n",
    "- **Basement;** General table shows bigger basements are increasing the price but I see some outliers there...\n",
    "\n",
    "- **GrLivArea;** This feature is pretty linear but we can spot two outliers effecting this trend. There are some huge area houses with pretty cheap prices, there might be some reason behind it but we better drop them.\n",
    "\n",
    "- **SaleDates;** They seem pretty unimportant on sale prices, we can drop them...\n"
   ]
  },
  {
   "cell_type": "code",
   "execution_count": null,
   "metadata": {
    "_kg_hide-input": true
   },
   "outputs": [],
   "source": [
    "# Plotting numerical features with polynomial order to detect outliers by eye.\n",
    "\n",
    "def srt_reg(y, df):\n",
    "    fig, axes = plt.subplots(12, 3, figsize=(25, 80))\n",
    "    axes = axes.flatten()\n",
    "\n",
    "    for i, j in zip(df.select_dtypes(include=['number']).columns, axes):\n",
    "\n",
    "        sns.regplot(x=i,\n",
    "                    y=y,\n",
    "                    data=df,\n",
    "                    ax=j,\n",
    "                    order=3,\n",
    "                    ci=None,\n",
    "                    color='#e74c3c',\n",
    "                    line_kws={'color': 'black'},\n",
    "                    scatter_kws={'alpha':0.4})\n",
    "        j.tick_params(labelrotation=45)\n",
    "        j.yaxis.set_major_locator(MaxNLocator(nbins=10))\n",
    "\n",
    "        plt.tight_layout()"
   ]
  },
  {
   "cell_type": "code",
   "execution_count": null,
   "metadata": {},
   "outputs": [],
   "source": [
    "srt_reg('SalePrice', train)"
   ]
  },
  {
   "cell_type": "markdown",
   "metadata": {},
   "source": [
    "## Outliers\n",
    "\n",
    "Ok here we're going to drop some outliers we detected them just above, this part is kinda subjective and you can try different approaches or you can implement some automatic outlier detection methods like isolation forests."
   ]
  },
  {
   "cell_type": "code",
   "execution_count": null,
   "metadata": {},
   "outputs": [],
   "source": [
    "# Dropping outliers after detecting them by eye.\n",
    "\n",
    "features = features.join(y)\n",
    "features = features.drop(features[(features['OverallQual'] < 5)\n",
    "                                  & (features['SalePrice'] > 200000)].index)\n",
    "features = features.drop(features[(features['GrLivArea'] > 4000)\n",
    "                                  & (features['SalePrice'] < 200000)].index)\n",
    "features = features.drop(features[(features['GarageArea'] > 1200)\n",
    "                                  & (features['SalePrice'] < 200000)].index)\n",
    "features = features.drop(features[(features['TotalBsmtSF'] > 3000)\n",
    "                                  & (features['SalePrice'] > 320000)].index)\n",
    "features = features.drop(features[(features['1stFlrSF'] < 3000)\n",
    "                                  & (features['SalePrice'] > 600000)].index)\n",
    "features = features.drop(features[(features['1stFlrSF'] > 3000)\n",
    "                                  & (features['SalePrice'] < 200000)].index)\n",
    "\n",
    "y = features['SalePrice']\n",
    "y.dropna(inplace=True)\n",
    "features.drop(columns='SalePrice', inplace=True)"
   ]
  },
  {
   "cell_type": "markdown",
   "metadata": {},
   "source": [
    "## Creating New Features\n",
    "\n",
    "Ok in this part we going to create some features, these can improve our modelling. I went with basic approach by merging some important indicators and making them stronger."
   ]
  },
  {
   "cell_type": "code",
   "execution_count": null,
   "metadata": {},
   "outputs": [],
   "source": [
    "# Creating new features  based on previous observations. There might be some highly correlated features now. You cab drop them if you want to...\n",
    "\n",
    "features['TotalSF'] = (features['BsmtFinSF1'] + features['BsmtFinSF2'] +\n",
    "                       features['1stFlrSF'] + features['2ndFlrSF'])\n",
    "features['TotalBathrooms'] = (features['FullBath'] +\n",
    "                              (0.5 * features['HalfBath']) +\n",
    "                              features['BsmtFullBath'] +\n",
    "                              (0.5 * features['BsmtHalfBath']))\n",
    "\n",
    "features['TotalPorchSF'] = (features['OpenPorchSF'] + features['3SsnPorch'] +\n",
    "                            features['EnclosedPorch'] +\n",
    "                            features['ScreenPorch'] + features['WoodDeckSF'])\n",
    "\n",
    "features['YearBlRm'] = (features['YearBuilt'] + features['YearRemodAdd'])\n",
    "\n",
    "# Merging quality and conditions.\n",
    "\n",
    "features['TotalExtQual'] = (features['ExterQual'] + features['ExterCond'])\n",
    "features['TotalBsmQual'] = (features['BsmtQual'] + features['BsmtCond'] +\n",
    "                            features['BsmtFinType1'] +\n",
    "                            features['BsmtFinType2'])\n",
    "features['TotalGrgQual'] = (features['GarageQual'] + features['GarageCond'])\n",
    "features['TotalQual'] = features['OverallQual'] + features[\n",
    "    'TotalExtQual'] + features['TotalBsmQual'] + features[\n",
    "        'TotalGrgQual'] + features['KitchenQual'] + features['HeatingQC']\n",
    "\n",
    "# Creating new features by using new quality indicators.\n",
    "\n",
    "features['QualGr'] = features['TotalQual'] * features['GrLivArea']\n",
    "features['QualBsm'] = features['TotalBsmQual'] * (features['BsmtFinSF1'] +\n",
    "                                                  features['BsmtFinSF2'])\n",
    "features['QualPorch'] = features['TotalExtQual'] * features['TotalPorchSF']\n",
    "features['QualExt'] = features['TotalExtQual'] * features['MasVnrArea']\n",
    "features['QualGrg'] = features['TotalGrgQual'] * features['GarageArea']\n",
    "features['QlLivArea'] = (features['GrLivArea'] -\n",
    "                         features['LowQualFinSF']) * (features['TotalQual'])\n",
    "features['QualSFNg'] = features['QualGr'] * features['Neighborhood']"
   ]
  },
  {
   "cell_type": "code",
   "execution_count": null,
   "metadata": {
    "_kg_hide-input": true
   },
   "outputs": [],
   "source": [
    "# Observing the effects of newly created features on sale price.\n",
    "\n",
    "def srt_reg(feature):\n",
    "    merged = features.join(y)\n",
    "    fig, axes = plt.subplots(5, 3, figsize=(25, 40))\n",
    "    axes = axes.flatten()\n",
    "\n",
    "    new_features = [\n",
    "        'TotalSF', 'TotalBathrooms', 'TotalPorchSF', 'YearBlRm',\n",
    "        'TotalExtQual', 'TotalBsmQual', 'TotalGrgQual', 'TotalQual', 'QualGr',\n",
    "        'QualBsm', 'QualPorch', 'QualExt', 'QualGrg', 'QlLivArea', 'QualSFNg'\n",
    "    ]\n",
    "\n",
    "    for i, j in zip(new_features, axes):\n",
    "\n",
    "        sns.regplot(x=i,\n",
    "                    y=feature,\n",
    "                    data=merged,\n",
    "                    ax=j,\n",
    "                    order=3,\n",
    "                    ci=None,\n",
    "                    color='#e74c3c',\n",
    "                    line_kws={'color': 'black'},\n",
    "                    scatter_kws={'alpha':0.4})\n",
    "        j.tick_params(labelrotation=45)\n",
    "        j.yaxis.set_major_locator(MaxNLocator(nbins=10))\n",
    "\n",
    "        plt.tight_layout()\n",
    "\n",
    "\n"
   ]
  },
  {
   "cell_type": "markdown",
   "metadata": {},
   "source": [
    "## Checking New Features\n",
    "\n",
    "Well... They look decent enough, I hope these can help us building strong models. I also wanted to add some more basic features for having specific feature or not. This approach was widely accepted by community so I see no harm to add them."
   ]
  },
  {
   "cell_type": "code",
   "execution_count": null,
   "metadata": {},
   "outputs": [],
   "source": [
    "srt_reg('SalePrice')"
   ]
  },
  {
   "cell_type": "code",
   "execution_count": null,
   "metadata": {},
   "outputs": [],
   "source": [
    "# Creating some simple features.\n",
    "\n",
    "features['HasPool'] = features['PoolArea'].apply(lambda x: 1 if x > 0 else 0)\n",
    "features['Has2ndFloor'] = features['2ndFlrSF'].apply(lambda x: 1\n",
    "                                                     if x > 0 else 0)\n",
    "features['HasGarage'] = features['QualGrg'].apply(lambda x: 1 if x > 0 else 0)\n",
    "features['HasBsmt'] = features['QualBsm'].apply(lambda x: 1 if x > 0 else 0)\n",
    "features['HasFireplace'] = features['Fireplaces'].apply(lambda x: 1\n",
    "                                                        if x > 0 else 0)\n",
    "features['HasPorch'] = features['QualPorch'].apply(lambda x: 1 if x > 0 else 0)"
   ]
  },
  {
   "cell_type": "markdown",
   "metadata": {},
   "source": [
    "## Transforming the Data\n",
    "\n",
    "Some of the continious values are not distributed evenly and not fitting on normal distribution, we can fix them by using couple transformation approaches. We're going to use boxcox here, again it's widely used by community and I want to thank them all for their great work. \n",
    "\n",
    "We're going to list skewed features and then apply boxcox transformation with boxcox_normmax (It computes optimal boxcox transform parameter for input data, so we don't decide the lambda here)..."
   ]
  },
  {
   "cell_type": "code",
   "execution_count": null,
   "metadata": {},
   "outputs": [],
   "source": [
    "# Numerical features we worked on which seems highly skewed but we filter again anyways...\n",
    "\n",
    "skewed = [\n",
    "    'LotFrontage', 'LotArea', 'MasVnrArea', 'BsmtFinSF1', 'BsmtFinSF2',\n",
    "    'BsmtUnfSF', 'TotalBsmtSF', '1stFlrSF', '2ndFlrSF', 'GrLivArea',\n",
    "    'GarageArea', 'WoodDeckSF', 'OpenPorchSF', 'EnclosedPorch', '3SsnPorch',\n",
    "    'ScreenPorch', 'PoolArea', 'LowQualFinSF', 'MiscVal'\n",
    "]"
   ]
  },
  {
   "cell_type": "code",
   "execution_count": null,
   "metadata": {},
   "outputs": [],
   "source": [
    "# Finding skewness of the numerical features.\n",
    "\n",
    "skew_features = np.abs(features[skewed].apply(lambda x: skew(x)).sort_values(\n",
    "    ascending=False))\n",
    "\n",
    "# Filtering skewed features.\n",
    "\n",
    "high_skew = skew_features[skew_features > 0.3]\n",
    "\n",
    "# Taking indexes of high skew.\n",
    "\n",
    "skew_index = high_skew.index\n",
    "\n",
    "# Applying boxcox transformation to fix skewness.\n",
    "\n",
    "for i in skew_index:\n",
    "    features[i] = boxcox1p(features[i], boxcox_normmax(features[i] + 1))"
   ]
  },
  {
   "cell_type": "markdown",
   "metadata": {},
   "source": [
    "**Here we dropping some unnecessary features had their use in feature engineering or not needed at all. Obviously it's subjective but I feel they don't add much to model. Then we one hot encode the categorical data left so everything will be prepared for the modelling.**"
   ]
  },
  {
   "cell_type": "code",
   "execution_count": null,
   "metadata": {},
   "outputs": [],
   "source": [
    "# Features to drop:\n",
    "\n",
    "to_drop = [\n",
    "    'Utilities',\n",
    "    'PoolQC',\n",
    "    'YrSold',\n",
    "    'MoSold',\n",
    "    'ExterQual',\n",
    "    'BsmtQual',\n",
    "    'GarageQual',\n",
    "    'KitchenQual',\n",
    "    'HeatingQC',\n",
    "]\n",
    "\n",
    "# Dropping features.\n",
    "\n",
    "features.drop(columns=to_drop, inplace=True)"
   ]
  },
  {
   "cell_type": "code",
   "execution_count": null,
   "metadata": {},
   "outputs": [],
   "source": [
    "# Getting dummy variables for categorical data.\n",
    "\n",
    "features = pd.get_dummies(data=features)"
   ]
  },
  {
   "cell_type": "markdown",
   "metadata": {},
   "source": [
    "# Double Check\n",
    "\n",
    "- **Before we move to modelling I want to take one last look to the data we processed. Everyting seems in order, not missing datas, values are numerical etc. Our feature engineered data is present...**\n",
    "\n",
    "- **Just want to check how transformed data correlates with sale prices before we move on and it looks decent.**\n",
    "\n",
    "- **Again I wanted to check our target value distribution and it seems little skewed. We can fix this by applying log transformation so our models can perform better.**"
   ]
  },
  {
   "cell_type": "code",
   "execution_count": null,
   "metadata": {},
   "outputs": [],
   "source": [
    "print(f'Number of missing values: {features.isna().sum().sum()}')"
   ]
  },
  {
   "cell_type": "code",
   "execution_count": null,
   "metadata": {},
   "outputs": [],
   "source": [
    "features.shape"
   ]
  },
  {
   "cell_type": "code",
   "execution_count": null,
   "metadata": {},
   "outputs": [],
   "source": [
    "features.sample(5)"
   ]
  },
  {
   "cell_type": "code",
   "execution_count": null,
   "metadata": {},
   "outputs": [],
   "source": [
    "features.describe()"
   ]
  },
  {
   "cell_type": "code",
   "execution_count": null,
   "metadata": {},
   "outputs": [],
   "source": [
    "# Separating train and test set.\n",
    "\n",
    "train = features.iloc[:len(y), :]\n",
    "test = features.iloc[len(train):, :]"
   ]
  },
  {
   "cell_type": "code",
   "execution_count": null,
   "metadata": {},
   "outputs": [],
   "source": [
    "correlations = train.join(y).corrwith(train.join(y)['SalePrice']).iloc[:-1].to_frame()\n",
    "correlations['Abs Corr'] = correlations[0].abs()\n",
    "sorted_correlations = correlations.sort_values('Abs Corr', ascending=False)['Abs Corr']\n",
    "fig, ax = plt.subplots(figsize=(12,12))\n",
    "sns.heatmap(sorted_correlations.to_frame()[sorted_correlations>=.5], cmap='coolwarm', annot=True, vmin=-1, vmax=1, ax=ax);\n"
   ]
  },
  {
   "cell_type": "code",
   "execution_count": null,
   "metadata": {
    "_kg_hide-input": true
   },
   "outputs": [],
   "source": [
    "def plot_dist3(df, feature, title):\n",
    "    \n",
    "    # Creating a customized chart. and giving in figsize and everything.\n",
    "    \n",
    "    fig = plt.figure(constrained_layout=True, figsize=(12, 8))\n",
    "    \n",
    "    # creating a grid of 3 cols and 3 rows.\n",
    "    \n",
    "    grid = gridspec.GridSpec(ncols=3, nrows=3, figure=fig)\n",
    "\n",
    "    # Customizing the histogram grid.\n",
    "    \n",
    "    ax1 = fig.add_subplot(grid[0, :2])\n",
    "    \n",
    "    # Set the title.\n",
    "    \n",
    "    ax1.set_title('Histogram')\n",
    "    \n",
    "    # plot the histogram.\n",
    "    \n",
    "    sns.distplot(df.loc[:, feature],\n",
    "                 hist=True,\n",
    "                 kde=True,\n",
    "                 fit=norm,\n",
    "                 ax=ax1,\n",
    "                 color='#e74c3c')\n",
    "    ax1.legend(labels=['Normal', 'Actual'])\n",
    "\n",
    "    # customizing the QQ_plot.\n",
    "    \n",
    "    ax2 = fig.add_subplot(grid[1, :2])\n",
    "    \n",
    "    # Set the title.\n",
    "    \n",
    "    ax2.set_title('Probability Plot')\n",
    "    \n",
    "    # Plotting the QQ_Plot.\n",
    "    stats.probplot(df.loc[:, feature].fillna(np.mean(df.loc[:, feature])),\n",
    "                   plot=ax2)\n",
    "    ax2.get_lines()[0].set_markerfacecolor('#e74c3c')\n",
    "    ax2.get_lines()[0].set_markersize(12.0)\n",
    "\n",
    "    # Customizing the Box Plot:\n",
    "    \n",
    "    ax3 = fig.add_subplot(grid[:, 2])\n",
    "    # Set title.\n",
    "    \n",
    "    ax3.set_title('Box Plot')\n",
    "    \n",
    "    # Plotting the box plot.\n",
    "    \n",
    "    sns.boxplot(df.loc[:, feature], orient='v', ax=ax3, color='#e74c3c')\n",
    "    ax3.yaxis.set_major_locator(MaxNLocator(nbins=24))\n",
    "\n",
    "    plt.suptitle(f'{title}', fontsize=24)"
   ]
  },
  {
   "cell_type": "code",
   "execution_count": null,
   "metadata": {},
   "outputs": [],
   "source": [
    "# Checking target variable.\n",
    "\n",
    "plot_dist3(train.join(y), 'SalePrice', 'Sale Price Before Log Transformation')"
   ]
  },
  {
   "cell_type": "code",
   "execution_count": null,
   "metadata": {},
   "outputs": [],
   "source": [
    "# Setting model data.\n",
    "\n",
    "X = train\n",
    "X_test = test\n",
    "y = np.log1p(y)"
   ]
  },
  {
   "cell_type": "code",
   "execution_count": null,
   "metadata": {},
   "outputs": [],
   "source": [
    "plot_dist3(train.join(y), 'SalePrice', 'Sale Price After Log Transformation')"
   ]
  },
  {
   "cell_type": "markdown",
   "metadata": {},
   "source": [
    "# Modelling\n",
    "\n",
    "Well then, it's time to do some modelling! First of all I wanted to thank kaggle community for loads of examples inspired me. Especially Alex Lekov's great script and Serigne's stacked regressions approach were great guides for me!\n",
    "\n",
    "Let's start with loading packages needed and then we set our regressors. The regressors I'm going to use here are:\n",
    "\n",
    "- Ridge,\n",
    "- Lasso,\n",
    "- Elasticnet,\n",
    "- Support Vector Regression\n",
    " + I'm going to apply robust scaler on these before we run them because they really get effected by outliers.\n",
    "- Gradient Boosting Regressor\n",
    "- LightGBM Regressor\n",
    "- XGBoost Regressor\n",
    " + These don't need scaling in my opinion so we just go as it is\n",
    "- Hist Gradient Boosting Regressor\n",
    " + This is just for experimenting, it's still experimental on sklearn anyways\n",
    "- Tweedie Regressor\n",
    " + This regressor added in latest version of sklearn and I wanted to try it. It's generalized linear model with a Tweedie distribution. We gonna use power of 0 because we expecting normal target distribution but you can try this or other generalized models like poisson regressor or gamma regressor.\n",
    "\n",
    "I tried to tune models by using Optuna package, that part is not added here."
   ]
  },
  {
   "cell_type": "code",
   "execution_count": null,
   "metadata": {},
   "outputs": [],
   "source": [
    "# Loading neccesary packages for modelling.\n",
    "\n",
    "from sklearn.model_selection import cross_val_score, KFold, cross_validate\n",
    "from sklearn.preprocessing import RobustScaler\n",
    "from sklearn.linear_model import ElasticNetCV, LassoCV, RidgeCV, TweedieRegressor\n",
    "from sklearn.experimental import enable_hist_gradient_boosting\n",
    "from sklearn.ensemble import GradientBoostingRegressor, HistGradientBoostingRegressor\n",
    "from sklearn.svm import SVR\n",
    "from sklearn.pipeline import make_pipeline\n",
    "from sklearn.metrics import mean_squared_error\n",
    "from xgboost import XGBRegressor\n",
    "from lightgbm import LGBMRegressor\n",
    "from mlxtend.regressor import StackingCVRegressor # This is for stacking part, works well with sklearn and others..."
   ]
  },
  {
   "cell_type": "code",
   "execution_count": null,
   "metadata": {},
   "outputs": [],
   "source": [
    "# Setting kfold for future use.\n",
    "\n",
    "kf = KFold(10, random_state=42)"
   ]
  },
  {
   "cell_type": "code",
   "execution_count": null,
   "metadata": {},
   "outputs": [],
   "source": [
    "# Some parameters for ridge, lasso and elasticnet.\n",
    "\n",
    "alphas_alt = [15.5, 15.6, 15.7, 15.8, 15.9, 15, 15.1, 15.2, 15.3, 15.4, 15.5]\n",
    "alphas2 = [\n",
    "    5e-05, 0.0001, 0.0002, 0.0003, 0.0004, 0.0005, 0.0006, 0.0007, 0.0008\n",
    "]\n",
    "e_alphas = [\n",
    "    0.0001, 0.0002, 0.0003, 0.0004, 0.0005, 0.0006, 0.0007\n",
    "]\n",
    "e_l1ratio = [0.8, 0.85, 0.9, 0.95, 0.99, 1]\n",
    "\n",
    "# ridge_cv\n",
    "\n",
    "ridge = make_pipeline(RobustScaler(), RidgeCV(\n",
    "    alphas=alphas_alt,\n",
    "    cv=kf,\n",
    "))\n",
    "\n",
    "# lasso_cv:\n",
    "\n",
    "lasso = make_pipeline(\n",
    "    RobustScaler(),\n",
    "    LassoCV(max_iter=1e7, alphas=alphas2, random_state=42, cv=kf))\n",
    "\n",
    "# elasticnet_cv:\n",
    "\n",
    "elasticnet = make_pipeline(\n",
    "    RobustScaler(),\n",
    "    ElasticNetCV(max_iter=1e7,\n",
    "                 alphas=e_alphas,\n",
    "                 cv=kf,\n",
    "                 random_state=42,\n",
    "                 l1_ratio=e_l1ratio))\n",
    "\n",
    "# svr:\n",
    "\n",
    "svr = make_pipeline(RobustScaler(),\n",
    "                    SVR(C=21, epsilon=0.0099, gamma=0.00017, tol=0.000121))\n",
    "\n",
    "# gradientboosting:\n",
    "\n",
    "gbr = GradientBoostingRegressor(n_estimators=2900,\n",
    "                                learning_rate=0.0161,\n",
    "                                max_depth=4,\n",
    "                                max_features='sqrt',\n",
    "                                min_samples_leaf=17,\n",
    "                                loss='huber',\n",
    "                                random_state=42)\n",
    "\n",
    "# lightgbm:\n",
    "\n",
    "lightgbm = LGBMRegressor(objective='regression',\n",
    "                         n_estimators=3500,\n",
    "                         num_leaves=5,\n",
    "                         learning_rate=0.00721,\n",
    "                         max_bin=163,\n",
    "                         bagging_fraction=0.35711,\n",
    "                         n_jobs=-1,\n",
    "                         bagging_seed=42,\n",
    "                         feature_fraction_seed=42,\n",
    "                         bagging_freq=7,\n",
    "                         feature_fraction=0.1294,\n",
    "                         min_data_in_leaf=8)\n",
    "\n",
    "# xgboost:\n",
    "\n",
    "xgboost = XGBRegressor(\n",
    "    learning_rate=0.0139,\n",
    "    n_estimators=4500,\n",
    "    max_depth=4,\n",
    "    min_child_weight=0,\n",
    "    subsample=0.7968,\n",
    "    colsample_bytree=0.4064,\n",
    "    nthread=-1,\n",
    "    scale_pos_weight=2,\n",
    "    seed=42,\n",
    ")\n",
    "\n",
    "\n",
    "# hist gradient boosting regressor:\n",
    "\n",
    "hgrd= HistGradientBoostingRegressor(    loss= 'least_squares',\n",
    "    max_depth= 2,\n",
    "    min_samples_leaf= 40,\n",
    "    max_leaf_nodes= 29,\n",
    "    learning_rate= 0.15,\n",
    "    max_iter= 225,\n",
    "                                    random_state=42)\n",
    "\n",
    "# tweedie regressor:\n",
    " \n",
    "tweed = make_pipeline(RobustScaler(),TweedieRegressor(alpha=0.005))\n",
    "\n",
    "\n",
    "# stacking regressor:\n",
    "\n",
    "stack_gen = StackingCVRegressor(regressors=(ridge, lasso, elasticnet, gbr,\n",
    "                                            xgboost, lightgbm,hgrd, tweed),\n",
    "                                meta_regressor=xgboost,\n",
    "                                use_features_in_secondary=True)"
   ]
  },
  {
   "cell_type": "markdown",
   "metadata": {},
   "source": [
    "# Cross Validation"
   ]
  },
  {
   "cell_type": "code",
   "execution_count": null,
   "metadata": {},
   "outputs": [],
   "source": [
    "def model_check(X, y, estimators, cv):\n",
    "    \n",
    "    ''' A function for testing multiple estimators.'''\n",
    "    \n",
    "    model_table = pd.DataFrame()\n",
    "\n",
    "    row_index = 0\n",
    "    for est, label in zip(estimators, labels):\n",
    "\n",
    "        MLA_name = label\n",
    "        model_table.loc[row_index, 'Model Name'] = MLA_name\n",
    "\n",
    "        cv_results = cross_validate(est,\n",
    "                                    X,\n",
    "                                    y,\n",
    "                                    cv=cv,\n",
    "                                    scoring='neg_root_mean_squared_error',\n",
    "                                    return_train_score=True,\n",
    "                                    n_jobs=-1)\n",
    "\n",
    "        model_table.loc[row_index, 'Train RMSE'] = -cv_results[\n",
    "            'train_score'].mean()\n",
    "        model_table.loc[row_index, 'Test RMSE'] = -cv_results[\n",
    "            'test_score'].mean()\n",
    "        model_table.loc[row_index, 'Test Std'] = cv_results['test_score'].std()\n",
    "        model_table.loc[row_index, 'Time'] = cv_results['fit_time'].mean()\n",
    "\n",
    "        row_index += 1\n",
    "\n",
    "    model_table.sort_values(by=['Test RMSE'],\n",
    "                            ascending=True,\n",
    "                            inplace=True)\n",
    "\n",
    "    return model_table"
   ]
  },
  {
   "cell_type": "code",
   "execution_count": null,
   "metadata": {},
   "outputs": [],
   "source": [
    "# Setting list of estimators and labels for them:\n",
    "\n",
    "estimators = [ridge, lasso, elasticnet, gbr, xgboost, lightgbm, svr, hgrd, tweed]\n",
    "labels = [\n",
    "    'Ridge', 'Lasso', 'Elasticnet', 'GradientBoostingRegressor',\n",
    "    'XGBRegressor', 'LGBMRegressor', 'SVR', 'HistGradientBoostingRegressor','TweedieRegressor'\n",
    "]"
   ]
  },
  {
   "cell_type": "markdown",
   "metadata": {},
   "source": [
    "# Model Results\n",
    "\n",
    "Allright, our results are here. Looks like our models did pretty close to each other, there might be some overfitting models and we can try to fix them by tuning but it was computationally expensive for me and since I'm going to stack and blend the models I think we can leave them as it is. We already added our models to stacking regression and set the XGBoost as meta regressor we can continue with stacking"
   ]
  },
  {
   "cell_type": "code",
   "execution_count": null,
   "metadata": {},
   "outputs": [],
   "source": [
    "# Executing cross validation.\n",
    "\n",
    "raw_models = model_check(X, y, estimators, kf)\n",
    "display(raw_models.style.background_gradient(cmap='summer_r'))"
   ]
  },
  {
   "cell_type": "markdown",
   "metadata": {},
   "source": [
    "## Stacking & Blending\n",
    "\n",
    "Here we fit every single estimator we have on the train data and then blend them by assigning weights to each model and sum the results. Weights are pretty subjective and I'm pretty sure you can come up with something performs better than this if you play with it..."
   ]
  },
  {
   "cell_type": "code",
   "execution_count": null,
   "metadata": {},
   "outputs": [],
   "source": [
    "# Fitting the models on train data.\n",
    "\n",
    "print('=' * 20, 'START Fitting', '=' * 20)\n",
    "print('=' * 55)\n",
    "\n",
    "print(datetime.now(), 'StackingCVRegressor')\n",
    "stack_gen_model = stack_gen.fit(X.values, y.values)\n",
    "print(datetime.now(), 'Elasticnet')\n",
    "elastic_model_full_data = elasticnet.fit(X, y)\n",
    "print(datetime.now(), 'Lasso')\n",
    "lasso_model_full_data = lasso.fit(X, y)\n",
    "print(datetime.now(), 'Ridge')\n",
    "ridge_model_full_data = ridge.fit(X, y)\n",
    "print(datetime.now(), 'SVR')\n",
    "svr_model_full_data = svr.fit(X, y)\n",
    "print(datetime.now(), 'GradientBoosting')\n",
    "gbr_model_full_data = gbr.fit(X, y)\n",
    "print(datetime.now(), 'XGboost')\n",
    "xgb_model_full_data = xgboost.fit(X, y)\n",
    "print(datetime.now(), 'Lightgbm')\n",
    "lgb_model_full_data = lightgbm.fit(X, y)\n",
    "print(datetime.now(), 'Hist')\n",
    "hist_full_data = hgrd.fit(X, y)\n",
    "print(datetime.now(), 'Tweed')\n",
    "tweed_full_data = tweed.fit(X, y)\n",
    "print('=' * 20, 'FINISHED Fitting', '=' * 20)\n",
    "print('=' * 58)"
   ]
  },
  {
   "cell_type": "code",
   "execution_count": null,
   "metadata": {},
   "outputs": [],
   "source": [
    "# Blending models by assigning weights:\n",
    "\n",
    "def blend_models_predict(X):\n",
    "    return ((0.1 * elastic_model_full_data.predict(X)) +\n",
    "            (0.1 * lasso_model_full_data.predict(X)) +\n",
    "            (0.1 * ridge_model_full_data.predict(X)) +\n",
    "            (0.1 * svr_model_full_data.predict(X)) +\n",
    "            (0.05 * gbr_model_full_data.predict(X)) +\n",
    "            (0.1 * xgb_model_full_data.predict(X)) +\n",
    "            (0.05 * lgb_model_full_data.predict(X)) +\n",
    "            (0.05 * hist_full_data.predict(X)) +\n",
    "            (0.1 * tweed_full_data.predict(X)) +\n",
    "            (0.25 * stack_gen_model.predict(X.values)))"
   ]
  },
  {
   "cell_type": "markdown",
   "metadata": {},
   "source": [
    "## Submission\n",
    "\n",
    "Our models are tuned, stacked, fitted and blended so we are ready to predict and submit our results. One last thing that I have seen on couple examples adding weights on some quantile levels. It didn't increase my results a lot but still improved the end results a little so I decided to use it."
   ]
  },
  {
   "cell_type": "code",
   "execution_count": null,
   "metadata": {},
   "outputs": [],
   "source": [
    "submission = pd.read_csv('/kaggle/input/home-data-for-ml-course/test.csv')\n",
    "# Inversing and flooring log scaled sale price predictions\n",
    "submission['SalePrice'] = np.floor(np.expm1(blend_models_predict(X_test)))\n",
    "# Defining outlier quartile ranges\n",
    "q1 = submission['SalePrice'].quantile(0.0050)\n",
    "q2 = submission['SalePrice'].quantile(0.99)\n",
    "\n",
    "# Applying weights to outlier ranges to smooth them\n",
    "submission['SalePrice'] = submission['SalePrice'].apply(\n",
    "    lambda x: x if x > q1 else x * 0.77)\n",
    "submission['SalePrice'] = submission['SalePrice'].apply(lambda x: x\n",
    "                                                        if x < q2 else x * 1.1)\n",
    "submission = submission[['Id', 'SalePrice']]"
   ]
  },
  {
   "cell_type": "code",
   "execution_count": null,
   "metadata": {},
   "outputs": [],
   "source": [
    "# Saving submission file\n",
    "\n",
    "submission.to_csv('mysubmission.csv', index=False)\n",
    "print(\n",
    "    'Save submission',\n",
    "    datetime.now(),\n",
    ")\n",
    "submission.head()"
   ]
  },
  {
   "cell_type": "markdown",
   "metadata": {},
   "source": [
    "# Final Words\n",
    "\n",
    "**I want to improve myself in every way I can. So if you have any ideas to feedback please let me know in comments, and if you liked my work please don't forget to vote, thank you!**"
   ]
  }
 ],
 "metadata": {
  "kernelspec": {
   "display_name": "Python 3",
   "language": "python",
   "name": "python3"
  },
  "language_info": {
   "codemirror_mode": {
    "name": "ipython",
    "version": 3
   },
   "file_extension": ".py",
   "mimetype": "text/x-python",
   "name": "python",
   "nbconvert_exporter": "python",
   "pygments_lexer": "ipython3",
   "version": "3.7.6"
  }
 },
 "nbformat": 4,
 "nbformat_minor": 4
}
